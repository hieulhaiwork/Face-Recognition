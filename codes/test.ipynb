{
 "cells": [
  {
   "cell_type": "code",
   "execution_count": 3,
   "metadata": {},
   "outputs": [],
   "source": [
    "import numpy as np\n",
    "import cv2\n",
    "import matplotlib.pyplot as plt"
   ]
  },
  {
   "cell_type": "code",
   "execution_count": 8,
   "metadata": {},
   "outputs": [
    {
     "name": "stdout",
     "output_type": "stream",
     "text": [
      "(250, 250)\n"
     ]
    }
   ],
   "source": [
    "from visualization import Visualize\n",
    "vis = Visualize()\n",
    "# Khởi tạo FaceDetectorYN\n",
    "face_detector = cv2.FaceDetectorYN.create(\n",
    "    model=r\"E:\\Khac\\Face Recognition\\Face-Recognition\\models\\yunet.onnx\",\n",
    "    config=\"\",\n",
    "    input_size=(250,250),\n",
    "    score_threshold=0.8\n",
    ")\n",
    "\n",
    "print(face_detector.getInputSize())\n",
    "# # Đọc ảnh đầu vào\n",
    "# img = cv2.imread(r\"E:\\Khac\\Face Recognition\\Face-Recognition\\images\\Zhang_Ziyi_0001.jpg\")\n",
    "# # img = cv2.resize(img, (640,640))\n",
    "\n",
    "# # Phát hiện khuôn mặt\n",
    "# _, faces = face_detector.detect(img)\n",
    "\n",
    "# for det in faces:\n",
    "#     bbox = det[0:4].astype(np.int32)\n",
    "#     cv2.rectangle(img, (bbox[0], bbox[1]), (bbox[0]+bbox[2], bbox[1]+bbox[3]), (0,255,0), 2)\n",
    "#     for i in range(4,14,2):\n",
    "#         cv2.circle(img, det[i:i+2].astype(np.int32), radius=5, color=(0,255,0))\n",
    "\n",
    "# plt.imshow(img, cmap='gray')"
   ]
  },
  {
   "cell_type": "code",
   "execution_count": 13,
   "metadata": {},
   "outputs": [
    {
     "data": {
      "text/plain": [
       "['.zip', '.bz2', '.tar', '.pth', '.h5']"
      ]
     },
     "execution_count": 13,
     "metadata": {},
     "output_type": "execute_result"
    }
   ],
   "source": [
    "import json\n",
    "with open('./configs.json', 'r') as f:\n",
    "    config = json.load(f)\n",
    "\n",
    "config.get(\"model\").get('ALLOWED_COMPRESS_TYPES')"
   ]
  },
  {
   "cell_type": "code",
   "execution_count": null,
   "metadata": {},
   "outputs": [
    {
     "data": {
      "text/plain": [
       "['4', '10', '0']"
      ]
     },
     "execution_count": 10,
     "metadata": {},
     "output_type": "execute_result"
    }
   ],
   "source": [
    "cv2.__version__.split(\".\")"
   ]
  },
  {
   "cell_type": "code",
   "execution_count": 15,
   "metadata": {},
   "outputs": [
    {
     "name": "stderr",
     "output_type": "stream",
     "text": [
      "Downloading...\n",
      "From: https://github.com/opencv/opencv_zoo/raw/main/models/face_detection_yunet/face_detection_yunet_2023mar.onnx\n",
      "To: e:\\Khac\\Face Recognition\\Face-Recognition\\model.onnx\n",
      "100%|██████████| 233k/233k [00:00<00:00, 1.78MB/s]\n"
     ]
    },
    {
     "data": {
      "text/plain": [
       "'./model.onnx'"
      ]
     },
     "execution_count": 15,
     "metadata": {},
     "output_type": "execute_result"
    }
   ],
   "source": [
    "import gdown\n",
    "s = \"https://github.com/opencv/opencv_zoo/raw/main/models/face_detection_yunet/face_detection_yunet_2023mar.onnx\"\n",
    "gdown.download(s, \"./model.onnx\", quiet=False)"
   ]
  },
  {
   "cell_type": "code",
   "execution_count": 5,
   "metadata": {},
   "outputs": [
    {
     "data": {
      "text/plain": [
       "[1, 5]"
      ]
     },
     "execution_count": 5,
     "metadata": {},
     "output_type": "execute_result"
    }
   ],
   "source": [
    "import numpy as np\n",
    "left_eye = (1,5)\n",
    "right_eye = (2,6)\n",
    "center = ((np.array(left_eye) + np.array(right_eye)) / 2).astype(np.int32).tolist()\n",
    "center"
   ]
  },
  {
   "cell_type": "code",
   "execution_count": 1,
   "metadata": {},
   "outputs": [
    {
     "name": "stdout",
     "output_type": "stream",
     "text": [
      "dict_keys(['epoch', 'net_state_dict'])\n"
     ]
    }
   ],
   "source": [
    "import torch\n",
    "checkpoint = torch.load(r\"E:\\Khac\\Face Recognition\\Face-Recognition\\models\\mobilefacenet.ckpt\")\n",
    "print(checkpoint.keys())\n"
   ]
  },
  {
   "cell_type": "code",
   "execution_count": null,
   "metadata": {},
   "outputs": [
    {
     "ename": "AssertionError",
     "evalue": "",
     "output_type": "error",
     "traceback": [
      "\u001b[1;31m---------------------------------------------------------------------------\u001b[0m",
      "\u001b[1;31mAssertionError\u001b[0m                            Traceback (most recent call last)",
      "Cell \u001b[1;32mIn[5], line 2\u001b[0m\n\u001b[0;32m      1\u001b[0m k \u001b[38;5;241m=\u001b[39m [\u001b[38;5;241m1\u001b[39m,\u001b[38;5;241m2\u001b[39m,\u001b[38;5;241m3\u001b[39m]\n\u001b[1;32m----> 2\u001b[0m \u001b[38;5;28;01massert\u001b[39;00m \u001b[38;5;28mtype\u001b[39m(k) \u001b[38;5;241m==\u001b[39m \u001b[38;5;124m'\u001b[39m\u001b[38;5;124mlist\u001b[39m\u001b[38;5;124m'\u001b[39m\n",
      "\u001b[1;31mAssertionError\u001b[0m: "
     ]
    }
   ],
   "source": [
    "from vector_db import VectorDatabase\n",
    "\n",
    "db = VectorDatabase()\n",
    "db."
   ]
  }
 ],
 "metadata": {
  "kernelspec": {
   "display_name": "face_rec",
   "language": "python",
   "name": "python3"
  },
  "language_info": {
   "codemirror_mode": {
    "name": "ipython",
    "version": 3
   },
   "file_extension": ".py",
   "mimetype": "text/x-python",
   "name": "python",
   "nbconvert_exporter": "python",
   "pygments_lexer": "ipython3",
   "version": "3.9.20"
  }
 },
 "nbformat": 4,
 "nbformat_minor": 2
}
